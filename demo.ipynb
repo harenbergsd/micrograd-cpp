{
 "cells": [
  {
   "cell_type": "code",
   "execution_count": 1,
   "metadata": {},
   "outputs": [],
   "source": [
    "import matplotlib.pyplot as plt\n",
    "import numpy as np\n",
    "from sklearn import datasets, metrics\n",
    "from sklearn.model_selection import train_test_split\n",
    "\n",
    "from micrograd import *"
   ]
  },
  {
   "cell_type": "code",
   "execution_count": 2,
   "metadata": {},
   "outputs": [
    {
     "data": {
      "image/png": "[encoded data removed]",
      "text/plain": [
       "<Figure size 1000x300 with 10 Axes>"
      ]
     },
     "metadata": {},
     "output_type": "display_data"
    }
   ],
   "source": [
    "# The data\n",
    "digits = datasets.load_digits()\n",
    "\n",
    "_, axes = plt.subplots(nrows=1, ncols=10, figsize=(10, 3))\n",
    "for ax, image, label in zip(axes, digits.images, digits.target):\n",
    "    ax.set_axis_off()\n",
    "    ax.imshow(image, cmap=plt.cm.gray_r)\n",
    "    ax.set_title(\"%i\" % label)"
   ]
  },
  {
   "cell_type": "code",
   "execution_count": 3,
   "metadata": {},
   "outputs": [],
   "source": [
    "# Flatten the images\n",
    "n_samples = len(digits.images)\n",
    "data = digits.images.reshape((n_samples, -1))\n",
    "\n",
    "# Split data into 90% train and 10% test subsets\n",
    "X_train, X_test, Y_train, Y_test = train_test_split(\n",
    "    data, digits.target, test_size=0.9, shuffle=False\n",
    ")\n",
    "\n",
    "Y_train = np.identity(10)[Y_train]  # convert to one hot encoding\n",
    "Y_test = np.identity(10)[Y_test]  # convert to one hot encoding"
   ]
  },
  {
   "cell_type": "code",
   "execution_count": 4,
   "metadata": {},
   "outputs": [],
   "source": [
    "# Train the model\n",
    "mlp = MLP(64, [16, 16, 10], \"sigmoid\")\n",
    "losses = mlp.fit(X_train, Y_train, 512, 0.001)"
   ]
  },
  {
   "cell_type": "code",
   "execution_count": 5,
   "metadata": {},
   "outputs": [
    {
     "name": "stdout",
     "output_type": "stream",
     "text": [
      "Training accuracy:  0.9385474860335196\n",
      " Testing accuracy:  0.5407911001236094\n"
     ]
    }
   ],
   "source": [
    "# Determine the training and testing accuracy\n",
    "def classlabel(X):\n",
    "    return max(range(len(X)), key=X.__getitem__)\n",
    "\n",
    "def accuracy(X, Y):\n",
    "    same = 0\n",
    "    for i in range(len(X)):\n",
    "        same += (X[i] == Y[i])\n",
    "    return float(same) / len(X)\n",
    "\n",
    "pred_labels_train = list(map(classlabel, [mlp.predict(x) for x in X_train]))\n",
    "true_labels_train = list(map(classlabel, Y_train))\n",
    "print(\"Training accuracy: \", accuracy(pred_labels_train, true_labels_train))\n",
    "\n",
    "pred_labels = list(map(classlabel, [mlp.predict(x) for x in X_test]))\n",
    "true_labels = list(map(classlabel, Y_test))\n",
    "print(\" Testing accuracy: \", accuracy(pred_labels, true_labels))"
   ]
  },
  {
   "cell_type": "code",
   "execution_count": 7,
   "metadata": {},
   "outputs": [
    {
     "data": {
      "image/png": "[encoded data removed]",
      "text/plain": [
       "<Figure size 1000x300 with 10 Axes>"
      ]
     },
     "metadata": {},
     "output_type": "display_data"
    }
   ],
   "source": [
    "# Show some incorrectly predicted images\n",
    "idxs = []\n",
    "wrong_labels = set()\n",
    "for i in range(len(pred_labels)):\n",
    "    pred_label = pred_labels[i]\n",
    "    if pred_label != true_labels[i] and pred_label not in wrong_labels:\n",
    "        wrong_labels.add(pred_label)\n",
    "        idxs.append(i)\n",
    "idxs.sort(key=lambda i: pred_labels[i])\n",
    "\n",
    "_, axes = plt.subplots(nrows=1, ncols=len(idxs), figsize=(len(idxs), 3))\n",
    "for ax, i, in zip(axes, idxs):\n",
    "    image = X_test[i].reshape(8,8)\n",
    "    ax.set_axis_off()\n",
    "    ax.imshow(image, cmap=plt.cm.gray_r)\n",
    "    ax.set_title(\"%i\" % pred_labels[i])"
   ]
  }
 ],
 "metadata": {
  "kernelspec": {
   "display_name": "myenv",
   "language": "python",
   "name": "python3"
  },
  "language_info": {
   "codemirror_mode": {
    "name": "ipython",
    "version": 3
   },
   "file_extension": ".py",
   "mimetype": "text/x-python",
   "name": "python",
   "nbconvert_exporter": "python",
   "pygments_lexer": "ipython3",
   "version": "3.8.10"
  },
  "orig_nbformat": 4
 },
 "nbformat": 4,
 "nbformat_minor": 2
}
